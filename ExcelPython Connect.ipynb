{
 "cells": [
  {
   "cell_type": "code",
   "execution_count": 15,
   "metadata": {
    "collapsed": true
   },
   "outputs": [],
   "source": [
    "import os"
   ]
  },
  {
   "cell_type": "code",
   "execution_count": 16,
   "metadata": {
    "collapsed": true
   },
   "outputs": [],
   "source": [
    "import win32com.client"
   ]
  },
  {
   "cell_type": "code",
   "execution_count": 18,
   "metadata": {
    "collapsed": false
   },
   "outputs": [
    {
     "data": {
      "text/plain": [
       "2"
      ]
     },
     "execution_count": 18,
     "metadata": {},
     "output_type": "execute_result"
    }
   ],
   "source": [
    "1+1"
   ]
  },
  {
   "cell_type": "code",
   "execution_count": 20,
   "metadata": {
    "collapsed": false
   },
   "outputs": [
    {
     "data": {
      "text/plain": [
       "<COMObject Open>"
      ]
     },
     "execution_count": 20,
     "metadata": {},
     "output_type": "execute_result"
    }
   ],
   "source": [
    "xl=win32com.client.Dispatch(\"Excel.Application\")\n",
    "xl.Workbooks.Open(Filename=\"C:/Users/G560667/Desktop/Overuse/LIVE_CM_Overuse_Results.xlsm\")\n",
    "#xl.Visible = True\n",
    "#xl.Application.Run(\"Macro1\")\n",
    "#xl.ActiveWorkbook.Save()\n",
    "#xl.Quit() "
   ]
  },
  {
   "cell_type": "code",
   "execution_count": 49,
   "metadata": {
    "collapsed": true
   },
   "outputs": [],
   "source": [
    "import os, sys\n",
    "import win32com.client\n",
    "\n",
    "def unprotect_xlsx(filename):\n",
    "    xcl = win32com.client.Dispatch('Excel.Application')\n",
    "    pw_str = '123'\n",
    "    wb = xcl.workbooks.open(filename)\n",
    "    wb.Unprotect(pw_str)\n",
    "    #wb.UnprotectSharing(pw_str)\n",
    "    xcl.DisplayAlerts = False\n",
    "    wb.Save()\n",
    "    #xcl.Quit()\n",
    "    \n",
    "def run_macro(filename):\n",
    "    xl=win32com.client.Dispatch(\"Excel.Application\")\n",
    "    xl.Workbooks.Open(filename)\n",
    "    #xl.Visible = True\n",
    "    xl.Application.Run(\"Macro2\")\n",
    "    xl.ActiveWorkbook.Save()\n",
    "    #xl.Quit() \n",
    "    \n",
    "def Remove_password_xlsx(filename, pw_str):\n",
    "    xcl = win32com.client.Dispatch(\"Excel.Application\")\n",
    "    #xcl.AskToUpdateLinks = False\n",
    "    #xcl.DisplayAlerts = False\n",
    "    wb = xcl.Workbooks.Open(filename, False, False, None, pw_str)\n",
    "    #xcl.DisplayAlerts = True\n",
    "    xcl.Application.Run(\"Macro2\")\n",
    "    #wb.SaveAs(filename, None, '', '')\n",
    "    #xcl.Quit()    "
   ]
  },
  {
   "cell_type": "code",
   "execution_count": 50,
   "metadata": {
    "collapsed": false
   },
   "outputs": [],
   "source": [
    "if __name__ == '__main__':\n",
    "    filename = 'C:/Users/G560667/Desktop/Overuse/LIVE_CM_Overuse_Results.xlsm'\n",
    "    Remove_password_xlsx(filename,'wave')\n",
    "    #unprotect_xlsx(filename)\n",
    "    #run_macro(filename)"
   ]
  },
  {
   "cell_type": "code",
   "execution_count": 27,
   "metadata": {
    "collapsed": true
   },
   "outputs": [],
   "source": [
    "from sharepoint import SharePointSite, basic_auth_opener\n",
    "#https://genmills.sharepoint.com/sites/OneGlobalSourcing/Pages/Genesis.aspx?Global=Direct"
   ]
  },
  {
   "cell_type": "code",
   "execution_count": 46,
   "metadata": {
    "collapsed": true
   },
   "outputs": [],
   "source": [
    "server_url = \"https://genmills.sharepoint.com/\"\n",
    "site_url = server_url + \"OneGlobalSourcing/\"\n",
    "\n",
    "opener = basic_auth_opener(server_url, \"GENMILLS\\G560667\", \"###\")\n",
    "\n",
    "site = SharePointSite(site_url, opener)"
   ]
  },
  {
   "cell_type": "code",
   "execution_count": 47,
   "metadata": {
    "collapsed": false
   },
   "outputs": [
    {
     "data": {
      "text/plain": [
       "<sharepoint.lists.SharePointLists at 0x227c7a45780>"
      ]
     },
     "execution_count": 47,
     "metadata": {},
     "output_type": "execute_result"
    }
   ],
   "source": [
    "site.lists"
   ]
  },
  {
   "cell_type": "code",
   "execution_count": 51,
   "metadata": {
    "collapsed": true
   },
   "outputs": [],
   "source": [
    "import os"
   ]
  },
  {
   "cell_type": "code",
   "execution_count": 54,
   "metadata": {
    "collapsed": false
   },
   "outputs": [],
   "source": [
    "x=os.listdir('\\\\\\\\inmbfp1\\\\rcoe\\\\Overuse Report\\\\CM_OVERUSE_MASTER_DATA.xlsm')"
   ]
  },
  {
   "cell_type": "code",
   "execution_count": 55,
   "metadata": {
    "collapsed": false
   },
   "outputs": [
    {
     "name": "stdout",
     "output_type": "stream",
     "text": [
      "CM_OVERUSE_MASTER_DATA.xlsm\n",
      "HN_OVERUSE_MASTER_DATA.xlsm\n",
      "LIVE CM Overuse Results.xlsx\n",
      "LIVE HN Overuse Results.xlsm\n"
     ]
    }
   ],
   "source": [
    "for i in x:\n",
    "    print(i)"
   ]
  },
  {
   "cell_type": "code",
   "execution_count": 56,
   "metadata": {
    "collapsed": false
   },
   "outputs": [
    {
     "data": {
      "text/plain": [
       "<COMObject Open>"
      ]
     },
     "execution_count": 56,
     "metadata": {},
     "output_type": "execute_result"
    }
   ],
   "source": [
    "xl=win32com.client.Dispatch(\"Excel.Application\")\n",
    "xl.Workbooks.Open(Filename=\"\\\\\\\\inmbfp1\\\\rcoe\\\\Overuse Report\\\\CM_OVERUSE_MASTER_DATA.xlsm\")\n",
    "#xl.Visible = True\n",
    "#xl.Application.Run(\"Macro1\")\n",
    "#xl.ActiveWorkbook.Save()\n",
    "#xl.Quit() "
   ]
  },
  {
   "cell_type": "code",
   "execution_count": null,
   "metadata": {
    "collapsed": true
   },
   "outputs": [],
   "source": []
  }
 ],
 "metadata": {
  "anaconda-cloud": {},
  "kernelspec": {
   "display_name": "Python [conda root]",
   "language": "python",
   "name": "conda-root-py"
  },
  "language_info": {
   "codemirror_mode": {
    "name": "ipython",
    "version": 3
   },
   "file_extension": ".py",
   "mimetype": "text/x-python",
   "name": "python",
   "nbconvert_exporter": "python",
   "pygments_lexer": "ipython3",
   "version": "3.5.2"
  }
 },
 "nbformat": 4,
 "nbformat_minor": 2
}
