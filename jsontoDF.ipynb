{
 "cells": [
  {
   "cell_type": "code",
   "execution_count": 1,
   "metadata": {
    "collapsed": true
   },
   "outputs": [],
   "source": [
    "import os"
   ]
  },
  {
   "cell_type": "code",
   "execution_count": 2,
   "metadata": {
    "collapsed": true
   },
   "outputs": [],
   "source": [
    "import pandas as pd\n",
    "import numpy as np"
   ]
  },
  {
   "cell_type": "code",
   "execution_count": 50,
   "metadata": {
    "collapsed": false
   },
   "outputs": [],
   "source": [
    "text = \"\"\"{\"tableMetaDatas\":[{\"tableName\":\"user\",\"columnMetaDatas\":[{\"columnName\":\"name\",\"columnType\":\"VARCHAR\",\"isAutoIncrment\":\"false\"},\n",
    "{\"columnName\":\"address\",\"columnType\":\"VARCHAR\",\"isAutoIncrment\":\"false\"}\n",
    "]},\n",
    "{\"tableName\":\"order\",\"columnMetaDatas\":[{\"columnName\":\"amount\",\"columnType\":\"double\",\"isAutoIncrment\":\"false\"},\n",
    "{\"columnName\":\"order_status\",\"columnType\":\"VARCHAR\",\"isAutoIncrment\":\"false\"}\n",
    "]}]}\"\"\""
   ]
  },
  {
   "cell_type": "code",
   "execution_count": 36,
   "metadata": {
    "collapsed": true
   },
   "outputs": [],
   "source": [
    "import json\n",
    "from pprint import pprint"
   ]
  },
  {
   "cell_type": "code",
   "execution_count": 40,
   "metadata": {
    "collapsed": false
   },
   "outputs": [],
   "source": [
    "dictionaryToJson = json.dumps(text)"
   ]
  },
  {
   "cell_type": "code",
   "execution_count": 43,
   "metadata": {
    "collapsed": false
   },
   "outputs": [
    {
     "name": "stdout",
     "output_type": "stream",
     "text": [
      "{\"tableMetaDatas\": [{\"columnMetaDatas\": [{\"isAutoIncrment\": \"false\", \"columnName\": \"name\", \"columnType\": \"VARCHAR\"}, {\"isAutoIncrment\": \"false\", \"columnName\": \"address\", \"columnType\": \"VARCHAR\"}], \"tableName\": \"user\"}, {\"columnMetaDatas\": [{\"isAutoIncrment\": \"false\", \"columnName\": \"amount\", \"columnType\": \"double\"}, {\"isAutoIncrment\": \"false\", \"columnName\": \"order_status\", \"columnType\": \"VARCHAR\"}], \"tableName\": \"order\"}]}\n"
     ]
    }
   ],
   "source": [
    "print(json.dumps(text))"
   ]
  },
  {
   "cell_type": "code",
   "execution_count": 78,
   "metadata": {
    "collapsed": false
   },
   "outputs": [],
   "source": [
    "parsed_json = json.loads(text)"
   ]
  },
  {
   "cell_type": "code",
   "execution_count": 53,
   "metadata": {
    "collapsed": false
   },
   "outputs": [
    {
     "data": {
      "text/plain": [
       "dict"
      ]
     },
     "execution_count": 53,
     "metadata": {},
     "output_type": "execute_result"
    }
   ],
   "source": [
    "type(parsed_json)"
   ]
  },
  {
   "cell_type": "code",
   "execution_count": 87,
   "metadata": {
    "collapsed": true
   },
   "outputs": [],
   "source": [
    "j=parsed_json"
   ]
  },
  {
   "cell_type": "code",
   "execution_count": 92,
   "metadata": {
    "collapsed": true
   },
   "outputs": [],
   "source": [
    "df =pd.DataFrame.from_dict(j,orient='index')"
   ]
  },
  {
   "cell_type": "code",
   "execution_count": 102,
   "metadata": {
    "collapsed": true
   },
   "outputs": [],
   "source": [
    "df.reset_index(inplace=True)"
   ]
  },
  {
   "cell_type": "code",
   "execution_count": 226,
   "metadata": {
    "collapsed": false
   },
   "outputs": [
    {
     "data": {
      "text/html": [
       "<div>\n",
       "<style scoped>\n",
       "    .dataframe tbody tr th:only-of-type {\n",
       "        vertical-align: middle;\n",
       "    }\n",
       "\n",
       "    .dataframe tbody tr th {\n",
       "        vertical-align: top;\n",
       "    }\n",
       "\n",
       "    .dataframe thead th {\n",
       "        text-align: right;\n",
       "    }\n",
       "</style>\n",
       "<table border=\"1\" class=\"dataframe\">\n",
       "  <thead>\n",
       "    <tr style=\"text-align: right;\">\n",
       "      <th></th>\n",
       "      <th>index</th>\n",
       "      <th>0</th>\n",
       "      <th>1</th>\n",
       "    </tr>\n",
       "  </thead>\n",
       "  <tbody>\n",
       "    <tr>\n",
       "      <th>0</th>\n",
       "      <td>tableMetaDatas</td>\n",
       "      <td>{'columnMetaDatas': [{'isAutoIncrment': 'false...</td>\n",
       "      <td>{'columnMetaDatas': [{'isAutoIncrment': 'false...</td>\n",
       "    </tr>\n",
       "  </tbody>\n",
       "</table>\n",
       "</div>"
      ],
      "text/plain": [
       "            index                                                  0  \\\n",
       "0  tableMetaDatas  {'columnMetaDatas': [{'isAutoIncrment': 'false...   \n",
       "\n",
       "                                                   1  \n",
       "0  {'columnMetaDatas': [{'isAutoIncrment': 'false...  "
      ]
     },
     "execution_count": 226,
     "metadata": {},
     "output_type": "execute_result"
    }
   ],
   "source": [
    "df"
   ]
  },
  {
   "cell_type": "code",
   "execution_count": 234,
   "metadata": {
    "collapsed": false
   },
   "outputs": [
    {
     "data": {
      "text/plain": [
       "3"
      ]
     },
     "execution_count": 234,
     "metadata": {},
     "output_type": "execute_result"
    }
   ],
   "source": [
    "## for getting number of tables \n",
    "df.columns.shape[0]-1 ## Since Index column is not specific to table"
   ]
  },
  {
   "cell_type": "code",
   "execution_count": 235,
   "metadata": {
    "collapsed": false
   },
   "outputs": [],
   "source": [
    "count=0\n",
    "for i in range(df.columns.shape[0]-1):\n",
    "    if count==0:\n",
    "        df1 =pd.DataFrame.from_dict(df.iloc[:,1].to_dict(),orient='index')\n",
    "        count+=1\n",
    "    else:\n",
    "        df1 =pd.concat([df1,pd.DataFrame.from_dict(df.iloc[:,2].to_dict(),orient='index')],axis=0)"
   ]
  },
  {
   "cell_type": "code",
   "execution_count": 236,
   "metadata": {
    "collapsed": false
   },
   "outputs": [
    {
     "data": {
      "text/html": [
       "<div>\n",
       "<style scoped>\n",
       "    .dataframe tbody tr th:only-of-type {\n",
       "        vertical-align: middle;\n",
       "    }\n",
       "\n",
       "    .dataframe tbody tr th {\n",
       "        vertical-align: top;\n",
       "    }\n",
       "\n",
       "    .dataframe thead th {\n",
       "        text-align: right;\n",
       "    }\n",
       "</style>\n",
       "<table border=\"1\" class=\"dataframe\">\n",
       "  <thead>\n",
       "    <tr style=\"text-align: right;\">\n",
       "      <th></th>\n",
       "      <th>columnMetaDatas</th>\n",
       "      <th>tableName</th>\n",
       "    </tr>\n",
       "  </thead>\n",
       "  <tbody>\n",
       "    <tr>\n",
       "      <th>0</th>\n",
       "      <td>[{'isAutoIncrment': 'false', 'columnName': 'na...</td>\n",
       "      <td>user</td>\n",
       "    </tr>\n",
       "    <tr>\n",
       "      <th>0</th>\n",
       "      <td>[{'isAutoIncrment': 'false', 'columnName': 'am...</td>\n",
       "      <td>order</td>\n",
       "    </tr>\n",
       "  </tbody>\n",
       "</table>\n",
       "</div>"
      ],
      "text/plain": [
       "                                     columnMetaDatas tableName\n",
       "0  [{'isAutoIncrment': 'false', 'columnName': 'na...      user\n",
       "0  [{'isAutoIncrment': 'false', 'columnName': 'am...     order"
      ]
     },
     "execution_count": 236,
     "metadata": {},
     "output_type": "execute_result"
    }
   ],
   "source": [
    "df1"
   ]
  },
  {
   "cell_type": "code",
   "execution_count": 224,
   "metadata": {
    "collapsed": false
   },
   "outputs": [],
   "source": [
    "count=0\n",
    "df_final=pd.DataFrame()\n",
    "for a in df1['tableName']:\n",
    "    for b in df1[df1['tableName']==a]['columnMetaDatas']:\n",
    "        new_dict=dict((item['columnName'], item) for item in b)\n",
    "        if count==0:\n",
    "            df_final=pd.DataFrame.from_dict(new_dict,orient='index')\n",
    "            df_final['tablename']=a\n",
    "            count+=1\n",
    "        else:\n",
    "            df_final=pd.concat([df_final,pd.DataFrame.from_dict(new_dict,orient='index')],axis=0) \n",
    "            df_final['tablename'].fillna(a, inplace=True)"
   ]
  },
  {
   "cell_type": "code",
   "execution_count": 225,
   "metadata": {
    "collapsed": false
   },
   "outputs": [
    {
     "data": {
      "text/html": [
       "<div>\n",
       "<style scoped>\n",
       "    .dataframe tbody tr th:only-of-type {\n",
       "        vertical-align: middle;\n",
       "    }\n",
       "\n",
       "    .dataframe tbody tr th {\n",
       "        vertical-align: top;\n",
       "    }\n",
       "\n",
       "    .dataframe thead th {\n",
       "        text-align: right;\n",
       "    }\n",
       "</style>\n",
       "<table border=\"1\" class=\"dataframe\">\n",
       "  <thead>\n",
       "    <tr style=\"text-align: right;\">\n",
       "      <th></th>\n",
       "      <th>columnName</th>\n",
       "      <th>columnType</th>\n",
       "      <th>isAutoIncrment</th>\n",
       "      <th>tablename</th>\n",
       "    </tr>\n",
       "  </thead>\n",
       "  <tbody>\n",
       "    <tr>\n",
       "      <th>address</th>\n",
       "      <td>address</td>\n",
       "      <td>VARCHAR</td>\n",
       "      <td>false</td>\n",
       "      <td>user</td>\n",
       "    </tr>\n",
       "    <tr>\n",
       "      <th>name</th>\n",
       "      <td>name</td>\n",
       "      <td>VARCHAR</td>\n",
       "      <td>false</td>\n",
       "      <td>user</td>\n",
       "    </tr>\n",
       "    <tr>\n",
       "      <th>amount</th>\n",
       "      <td>amount</td>\n",
       "      <td>double</td>\n",
       "      <td>false</td>\n",
       "      <td>order</td>\n",
       "    </tr>\n",
       "    <tr>\n",
       "      <th>order_status</th>\n",
       "      <td>order_status</td>\n",
       "      <td>VARCHAR</td>\n",
       "      <td>false</td>\n",
       "      <td>order</td>\n",
       "    </tr>\n",
       "  </tbody>\n",
       "</table>\n",
       "</div>"
      ],
      "text/plain": [
       "                columnName columnType isAutoIncrment tablename\n",
       "address            address    VARCHAR          false      user\n",
       "name                  name    VARCHAR          false      user\n",
       "amount              amount     double          false     order\n",
       "order_status  order_status    VARCHAR          false     order"
      ]
     },
     "execution_count": 225,
     "metadata": {},
     "output_type": "execute_result"
    }
   ],
   "source": [
    "df_final"
   ]
  },
  {
   "cell_type": "code",
   "execution_count": 207,
   "metadata": {
    "collapsed": false
   },
   "outputs": [],
   "source": [
    "##Alternate method\n",
    "count=0\n",
    "df_final=pd.DataFrame()\n",
    "for i in df1['columnMetaDatas']:\n",
    "    new_dict = dict((item['columnName'], item) for item in i)\n",
    "    if count==0:\n",
    "        df_final=pd.DataFrame.from_dict(new_dict,orient='index')\n",
    "        count+=1\n",
    "    else:\n",
    "        df_final=pd.concat([df_final,pd.DataFrame.from_dict(new_dict,orient='index')],axis=0) "
   ]
  },
  {
   "cell_type": "code",
   "execution_count": 208,
   "metadata": {
    "collapsed": false
   },
   "outputs": [
    {
     "data": {
      "text/html": [
       "<div>\n",
       "<style scoped>\n",
       "    .dataframe tbody tr th:only-of-type {\n",
       "        vertical-align: middle;\n",
       "    }\n",
       "\n",
       "    .dataframe tbody tr th {\n",
       "        vertical-align: top;\n",
       "    }\n",
       "\n",
       "    .dataframe thead th {\n",
       "        text-align: right;\n",
       "    }\n",
       "</style>\n",
       "<table border=\"1\" class=\"dataframe\">\n",
       "  <thead>\n",
       "    <tr style=\"text-align: right;\">\n",
       "      <th></th>\n",
       "      <th>isAutoIncrment</th>\n",
       "      <th>columnName</th>\n",
       "      <th>columnType</th>\n",
       "    </tr>\n",
       "  </thead>\n",
       "  <tbody>\n",
       "    <tr>\n",
       "      <th>address</th>\n",
       "      <td>false</td>\n",
       "      <td>address</td>\n",
       "      <td>VARCHAR</td>\n",
       "    </tr>\n",
       "    <tr>\n",
       "      <th>name</th>\n",
       "      <td>false</td>\n",
       "      <td>name</td>\n",
       "      <td>VARCHAR</td>\n",
       "    </tr>\n",
       "    <tr>\n",
       "      <th>amount</th>\n",
       "      <td>false</td>\n",
       "      <td>amount</td>\n",
       "      <td>double</td>\n",
       "    </tr>\n",
       "    <tr>\n",
       "      <th>order_status</th>\n",
       "      <td>false</td>\n",
       "      <td>order_status</td>\n",
       "      <td>VARCHAR</td>\n",
       "    </tr>\n",
       "  </tbody>\n",
       "</table>\n",
       "</div>"
      ],
      "text/plain": [
       "             isAutoIncrment    columnName columnType\n",
       "address               false       address    VARCHAR\n",
       "name                  false          name    VARCHAR\n",
       "amount                false        amount     double\n",
       "order_status          false  order_status    VARCHAR"
      ]
     },
     "execution_count": 208,
     "metadata": {},
     "output_type": "execute_result"
    }
   ],
   "source": [
    "df_final"
   ]
  },
  {
   "cell_type": "code",
   "execution_count": null,
   "metadata": {
    "collapsed": true
   },
   "outputs": [],
   "source": []
  }
 ],
 "metadata": {
  "anaconda-cloud": {},
  "kernelspec": {
   "display_name": "Python [conda root]",
   "language": "python",
   "name": "conda-root-py"
  },
  "language_info": {
   "codemirror_mode": {
    "name": "ipython",
    "version": 3
   },
   "file_extension": ".py",
   "mimetype": "text/x-python",
   "name": "python",
   "nbconvert_exporter": "python",
   "pygments_lexer": "ipython3",
   "version": "3.5.2"
  }
 },
 "nbformat": 4,
 "nbformat_minor": 2
}
